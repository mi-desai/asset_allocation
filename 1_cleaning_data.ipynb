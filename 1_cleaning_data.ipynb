{
 "cells": [
  {
   "cell_type": "code",
   "execution_count": 64,
   "metadata": {},
   "outputs": [
    {
     "name": "stdout",
     "output_type": "stream",
     "text": [
      "True\n",
      "True\n",
      "True\n",
      "True\n",
      "True\n",
      "True\n",
      "True\n",
      "True\n",
      "True\n",
      "True\n"
     ]
    }
   ],
   "source": [
    "def clean_data():\n",
    "    import numpy as np\n",
    "    import pandas as pd\n",
    "    from functools import reduce\n",
    "    from datetime import datetime\n",
    "    \n",
    "    result = pd.DataFrame([])\n",
    "    data = pd.read_excel('data_raw/asset_data.xlsx')\n",
    "    \n",
    "    date_cols = []\n",
    "    asset_cols = []\n",
    "    series = []\n",
    "    absolute_start = '1/3/2005'\n",
    "    absolute_end = '7/23/2020'\n",
    "    date_range = pd.date_range(start=absolute_start, end=absolute_end, freq='B')\n",
    "        \n",
    "    # useful to make a scalable procedure for a single sheet a potentially large number of alternating columns of dates and prices\n",
    "    # push all date columns in the same list, all date_cols are even, so use a modulo-division rule to separate out the dates and prices\n",
    "    # push all asset columns in the same list\n",
    "    for column_label in enumerate(data.columns):\n",
    "        if column_label[0] % 2 == 0:\n",
    "            date_cols.append(column_label[1])\n",
    "        else:\n",
    "            asset_cols.append(column_label[1])\n",
    "    \n",
    "    # for each date column, create a new column with the associated asset number that converts to datetime\n",
    "    # drop non-datetime column\n",
    "    for column in enumerate(date_cols):\n",
    "        data['Date' + str(column[0] + 1)] = pd.to_datetime(data[column[1]])\n",
    "        data.drop(column[1], axis=1, inplace=True)\n",
    "    \n",
    "    # for the asset columns, create a new DF that matches it up with its proper datetime column, set the index, rename it to a common label, and sort\n",
    "    for asset in enumerate(asset_cols):\n",
    "        columns = data.columns\n",
    "        modifier = len(asset_cols)\n",
    "        asset_label = asset[1]\n",
    "        date_label = columns[asset[0] + modifier]\n",
    "        new_series = pd.DataFrame(data[[date_label, asset_label]]).set_index(date_label).rename_axis(index='Date').sort_index(ascending=False).dropna()\n",
    "        new_series = new_series.reindex(date_range).sort_index()\n",
    "        series.append(new_series)\n",
    "    \n",
    "    # don't want to put them together into a single DF for now, for a few reasons, so write them to their own csv files\n",
    "    # There are a ton of features to extract for each time series - lags, rolling metrics, etc, and we want them to be named the same thing so they can be compared across all series in the EDA\n",
    "    \n",
    "    \n",
    "    for asset in enumerate(series):\n",
    "        asset[1].to_csv('data_clean/asset' + str(asset[0]+1) + '.csv', index=True)\n",
    "        print(asset[1].index.is_monotonic_increasing)\n",
    "        \n",
    "    \n",
    "    \n",
    "    return series\n",
    "    \n",
    "    \n",
    "    \n",
    "data = clean_data()"
   ]
  },
  {
   "cell_type": "code",
   "execution_count": null,
   "metadata": {},
   "outputs": [],
   "source": []
  }
 ],
 "metadata": {
  "kernelspec": {
   "display_name": "Python 3",
   "language": "python",
   "name": "python3"
  },
  "language_info": {
   "codemirror_mode": {
    "name": "ipython",
    "version": 3
   },
   "file_extension": ".py",
   "mimetype": "text/x-python",
   "name": "python",
   "nbconvert_exporter": "python",
   "pygments_lexer": "ipython3",
   "version": "3.7.4"
  },
  "toc": {
   "base_numbering": 1,
   "nav_menu": {},
   "number_sections": false,
   "sideBar": false,
   "skip_h1_title": false,
   "title_cell": "Table of Contents",
   "title_sidebar": "Contents",
   "toc_cell": false,
   "toc_position": {},
   "toc_section_display": false,
   "toc_window_display": false
  }
 },
 "nbformat": 4,
 "nbformat_minor": 2
}
